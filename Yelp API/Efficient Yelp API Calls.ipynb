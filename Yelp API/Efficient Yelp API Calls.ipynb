{
 "cells": [
  {
   "cell_type": "code",
   "execution_count": 1,
   "id": "44ad8ea9",
   "metadata": {},
   "outputs": [
    {
     "data": {
      "text/plain": [
       "dict_keys(['client-id', 'api-key'])"
      ]
     },
     "execution_count": 1,
     "metadata": {},
     "output_type": "execute_result"
    }
   ],
   "source": [
    "import json\n",
    "with open('/Users/Test/.secret/yelp_api.json') as f: #change the path to match YOUR path!!\n",
    "    login = json.load(f)\n",
    "login.keys()"
   ]
  },
  {
   "cell_type": "code",
   "execution_count": 2,
   "id": "f29f651a",
   "metadata": {},
   "outputs": [
    {
     "data": {
      "text/plain": [
       "<yelpapi.yelpapi.YelpAPI at 0x2b3672d97f0>"
      ]
     },
     "execution_count": 2,
     "metadata": {},
     "output_type": "execute_result"
    }
   ],
   "source": [
    "from yelpapi import YelpAPI\n",
    "yelp_api = YelpAPI(login['api-key'], timeout_s=5.0)\n",
    "yelp_api"
   ]
  },
  {
   "cell_type": "code",
   "execution_count": 13,
   "id": "b59f9f43",
   "metadata": {},
   "outputs": [],
   "source": [
    "LOCATION = 'NY,NY'\n",
    "TERM = 'Pizza'"
   ]
  },
  {
   "cell_type": "code",
   "execution_count": 11,
   "id": "48ec054b",
   "metadata": {},
   "outputs": [],
   "source": [
    "import numpy as np\n",
    "import pandas as pd\n",
    "import matplotlib.pyplot as plt\n",
    "import seaborn as sns\n",
    "import os, math, time\n",
    "from tqdm.notebook import tqdm_notebook"
   ]
  },
  {
   "cell_type": "code",
   "execution_count": 12,
   "id": "c9f33d5e",
   "metadata": {
    "scrolled": false
   },
   "outputs": [
    {
     "data": {
      "text/plain": [
       "'Data/Seattle_Thai.json'"
      ]
     },
     "execution_count": 12,
     "metadata": {},
     "output_type": "execute_result"
    }
   ],
   "source": [
    "JSON_FILE = \"Data/Seattle_Thai.json\"\n",
    "JSON_FILEb"
   ]
  },
  {
   "cell_type": "markdown",
   "id": "08fb7a5c",
   "metadata": {},
   "source": [
    "From \"Code for Efficient API Extraction\""
   ]
  },
  {
   "cell_type": "code",
   "execution_count": 14,
   "id": "06728956",
   "metadata": {},
   "outputs": [
    {
     "name": "stdout",
     "output_type": "stream",
     "text": [
      "[i] Data/Seattle_Thai.json not found. Saving empty list to file.\n"
     ]
    }
   ],
   "source": [
    "## Check if JSON_FILE exists\n",
    "file_exists = os.path.isfile(JSON_FILE)\n",
    "## If it does not exist: \n",
    "if file_exists == False:\n",
    "    \n",
    "    ## CREATE ANY NEEDED FOLDERS\n",
    "    # Get the Folder Name only\n",
    "    folder = os.path.dirname(JSON_FILE)\n",
    "    ## If JSON_FILE included a folder:\n",
    "    if len(folder)>0:\n",
    "        # create the folder\n",
    "        os.makedirs(folder,exist_ok=True)\n",
    "        \n",
    "        \n",
    "    ## INFORM USER AND SAVE EMPTY LIST\n",
    "    print(f\"[i] {JSON_FILE} not found. Saving empty list to file.\")\n",
    "    \n",
    "    \n",
    "    ## save the first page of results\n",
    "    with open(JSON_FILE,'w') as f:\n",
    "        json.dump([],f)  \n",
    "## If it exists, inform user\n",
    "else:\n",
    "    print(f\"[i] {JSON_FILE} already exists.\")\n"
   ]
  },
  {
   "cell_type": "code",
   "execution_count": 16,
   "id": "25246528",
   "metadata": {},
   "outputs": [
    {
     "name": "stdout",
     "output_type": "stream",
     "text": [
      "- 0 previous results found.\n"
     ]
    }
   ],
   "source": [
    "with open(JSON_FILE,'r') as f:\n",
    "    previous_results = json.load(f)\n",
    "    \n",
    "n_results = len(previous_results)\n",
    "print(f'- {n_results} previous results found.')"
   ]
  },
  {
   "cell_type": "code",
   "execution_count": 22,
   "id": "cf32da9f",
   "metadata": {},
   "outputs": [
    {
     "data": {
      "text/plain": [
       "dict_keys(['businesses', 'total', 'region'])"
      ]
     },
     "execution_count": 22,
     "metadata": {},
     "output_type": "execute_result"
    }
   ],
   "source": [
    "results = yelp_api.search_query(location=LOCATION,\n",
    "                                 term=TERM,\n",
    "                                 offset=n_results)\n",
    "results.keys()"
   ]
  },
  {
   "cell_type": "code",
   "execution_count": 23,
   "id": "b1995972",
   "metadata": {},
   "outputs": [
    {
     "data": {
      "text/plain": [
       "12200"
      ]
     },
     "execution_count": 23,
     "metadata": {},
     "output_type": "execute_result"
    }
   ],
   "source": [
    "total_results = results['total']\n",
    "total_results"
   ]
  },
  {
   "cell_type": "code",
   "execution_count": 24,
   "id": "d6fb7f2c",
   "metadata": {},
   "outputs": [
    {
     "data": {
      "text/plain": [
       "20"
      ]
     },
     "execution_count": 24,
     "metadata": {},
     "output_type": "execute_result"
    }
   ],
   "source": [
    "results_per_page = len(results['businesses'])\n",
    "results_per_page"
   ]
  },
  {
   "cell_type": "code",
   "execution_count": 26,
   "id": "640e8d89",
   "metadata": {},
   "outputs": [
    {
     "data": {
      "text/plain": [
       "610"
      ]
     },
     "execution_count": 26,
     "metadata": {},
     "output_type": "execute_result"
    }
   ],
   "source": [
    "# Round up for the total number of pages of results.\n",
    "n_pages = math.ceil((results['total']-n_results)/ results_per_page)\n",
    "n_pages"
   ]
  },
  {
   "cell_type": "code",
   "execution_count": 27,
   "id": "f24b2bd7",
   "metadata": {},
   "outputs": [],
   "source": [
    "# join new results with old list with extend and save to file\n",
    "previous_results.extend(results['businesses'])  \n",
    "with open(JSON_FILE,'w') as f:\n",
    "     json.dump(previous_results,f)"
   ]
  },
  {
   "cell_type": "code",
   "execution_count": 28,
   "id": "cb5315a8",
   "metadata": {},
   "outputs": [
    {
     "name": "stdout",
     "output_type": "stream",
     "text": [
      "Requirement already satisfied: tqdm in c:\\users\\test\\anaconda3\\envs\\dojo-env\\lib\\site-packages (4.64.1)\n",
      "Requirement already satisfied: colorama in c:\\users\\test\\anaconda3\\envs\\dojo-env\\lib\\site-packages (from tqdm) (0.4.5)\n",
      "Note: you may need to restart the kernel to use updated packages.\n"
     ]
    }
   ],
   "source": [
    "pip install tqdm"
   ]
  },
  {
   "cell_type": "code",
   "execution_count": 29,
   "id": "59923c3c",
   "metadata": {},
   "outputs": [
    {
     "data": {
      "application/vnd.jupyter.widget-view+json": {
       "model_id": "c44477ab5bdb4d48abeca715e2a2b3ee",
       "version_major": 2,
       "version_minor": 0
      },
      "text/plain": [
       "  0%|          | 0/610 [00:00<?, ?it/s]"
      ]
     },
     "metadata": {},
     "output_type": "display_data"
    }
   ],
   "source": [
    "from tqdm.notebook import tqdm_notebook\n",
    "import time\n",
    "for i in tqdm_notebook(range(n_pages)):\n",
    "    time.sleep(.2) "
   ]
  },
  {
   "cell_type": "code",
   "execution_count": 30,
   "id": "d3ab1789",
   "metadata": {
    "scrolled": false
   },
   "outputs": [
    {
     "data": {
      "text/html": [
       "<div>\n",
       "<style scoped>\n",
       "    .dataframe tbody tr th:only-of-type {\n",
       "        vertical-align: middle;\n",
       "    }\n",
       "\n",
       "    .dataframe tbody tr th {\n",
       "        vertical-align: top;\n",
       "    }\n",
       "\n",
       "    .dataframe thead th {\n",
       "        text-align: right;\n",
       "    }\n",
       "</style>\n",
       "<table border=\"1\" class=\"dataframe\">\n",
       "  <thead>\n",
       "    <tr style=\"text-align: right;\">\n",
       "      <th></th>\n",
       "      <th>id</th>\n",
       "      <th>alias</th>\n",
       "      <th>name</th>\n",
       "      <th>image_url</th>\n",
       "      <th>is_closed</th>\n",
       "      <th>url</th>\n",
       "      <th>review_count</th>\n",
       "      <th>categories</th>\n",
       "      <th>rating</th>\n",
       "      <th>coordinates</th>\n",
       "      <th>transactions</th>\n",
       "      <th>price</th>\n",
       "      <th>location</th>\n",
       "      <th>phone</th>\n",
       "      <th>display_phone</th>\n",
       "      <th>distance</th>\n",
       "    </tr>\n",
       "  </thead>\n",
       "  <tbody>\n",
       "    <tr>\n",
       "      <th>0</th>\n",
       "      <td>zj8Lq1T8KIC5zwFief15jg</td>\n",
       "      <td>prince-street-pizza-new-york-2</td>\n",
       "      <td>Prince Street Pizza</td>\n",
       "      <td>https://s3-media4.fl.yelpcdn.com/bphoto/HVjttL...</td>\n",
       "      <td>False</td>\n",
       "      <td>https://www.yelp.com/biz/prince-street-pizza-n...</td>\n",
       "      <td>4503</td>\n",
       "      <td>[{'alias': 'pizza', 'title': 'Pizza'}, {'alias...</td>\n",
       "      <td>4.5</td>\n",
       "      <td>{'latitude': 40.72308755605564, 'longitude': -...</td>\n",
       "      <td>[pickup, delivery]</td>\n",
       "      <td>$</td>\n",
       "      <td>{'address1': '27 Prince St', 'address2': None,...</td>\n",
       "      <td>+12129664100</td>\n",
       "      <td>(212) 966-4100</td>\n",
       "      <td>1961.877142</td>\n",
       "    </tr>\n",
       "    <tr>\n",
       "      <th>1</th>\n",
       "      <td>ysqgdbSrezXgVwER2kQWKA</td>\n",
       "      <td>julianas-brooklyn-3</td>\n",
       "      <td>Juliana's</td>\n",
       "      <td>https://s3-media1.fl.yelpcdn.com/bphoto/OCDZ4n...</td>\n",
       "      <td>False</td>\n",
       "      <td>https://www.yelp.com/biz/julianas-brooklyn-3?a...</td>\n",
       "      <td>2523</td>\n",
       "      <td>[{'alias': 'pizza', 'title': 'Pizza'}]</td>\n",
       "      <td>4.5</td>\n",
       "      <td>{'latitude': 40.70274718768062, 'longitude': -...</td>\n",
       "      <td>[delivery]</td>\n",
       "      <td>$$</td>\n",
       "      <td>{'address1': '19 Old Fulton St', 'address2': '...</td>\n",
       "      <td>+17185966700</td>\n",
       "      <td>(718) 596-6700</td>\n",
       "      <td>308.569844</td>\n",
       "    </tr>\n",
       "    <tr>\n",
       "      <th>2</th>\n",
       "      <td>v1DHGRNCH9247WLYoaoA9A</td>\n",
       "      <td>l-industrie-pizzeria-brooklyn</td>\n",
       "      <td>L'industrie Pizzeria</td>\n",
       "      <td>https://s3-media3.fl.yelpcdn.com/bphoto/Llq71W...</td>\n",
       "      <td>False</td>\n",
       "      <td>https://www.yelp.com/biz/l-industrie-pizzeria-...</td>\n",
       "      <td>766</td>\n",
       "      <td>[{'alias': 'pizza', 'title': 'Pizza'}]</td>\n",
       "      <td>4.5</td>\n",
       "      <td>{'latitude': 40.71162, 'longitude': -73.95783}</td>\n",
       "      <td>[delivery]</td>\n",
       "      <td>$</td>\n",
       "      <td>{'address1': '254 S 2nd St', 'address2': '', '...</td>\n",
       "      <td>+17185990002</td>\n",
       "      <td>(718) 599-0002</td>\n",
       "      <td>3145.016041</td>\n",
       "    </tr>\n",
       "    <tr>\n",
       "      <th>3</th>\n",
       "      <td>WG639VkTjmK5dzydd1BBJA</td>\n",
       "      <td>rubirosa-new-york-2</td>\n",
       "      <td>Rubirosa</td>\n",
       "      <td>https://s3-media4.fl.yelpcdn.com/bphoto/LuSzR8...</td>\n",
       "      <td>False</td>\n",
       "      <td>https://www.yelp.com/biz/rubirosa-new-york-2?a...</td>\n",
       "      <td>2765</td>\n",
       "      <td>[{'alias': 'italian', 'title': 'Italian'}, {'a...</td>\n",
       "      <td>4.5</td>\n",
       "      <td>{'latitude': 40.722766, 'longitude': -73.996233}</td>\n",
       "      <td>[pickup]</td>\n",
       "      <td>$$</td>\n",
       "      <td>{'address1': '235 Mulberry St', 'address2': ''...</td>\n",
       "      <td>+12129650500</td>\n",
       "      <td>(212) 965-0500</td>\n",
       "      <td>1932.946770</td>\n",
       "    </tr>\n",
       "    <tr>\n",
       "      <th>4</th>\n",
       "      <td>Q9F2ocrmYuGt1yn3M7MOBw</td>\n",
       "      <td>lucali-brooklyn-3</td>\n",
       "      <td>Lucali</td>\n",
       "      <td>https://s3-media3.fl.yelpcdn.com/bphoto/Yl_eZ_...</td>\n",
       "      <td>False</td>\n",
       "      <td>https://www.yelp.com/biz/lucali-brooklyn-3?adj...</td>\n",
       "      <td>1866</td>\n",
       "      <td>[{'alias': 'pizza', 'title': 'Pizza'}]</td>\n",
       "      <td>4.0</td>\n",
       "      <td>{'latitude': 40.681840746711224, 'longitude': ...</td>\n",
       "      <td>[delivery]</td>\n",
       "      <td>$$</td>\n",
       "      <td>{'address1': '575 Henry St', 'address2': None,...</td>\n",
       "      <td>+17188584086</td>\n",
       "      <td>(718) 858-4086</td>\n",
       "      <td>2673.589406</td>\n",
       "    </tr>\n",
       "  </tbody>\n",
       "</table>\n",
       "</div>"
      ],
      "text/plain": [
       "                       id                           alias  \\\n",
       "0  zj8Lq1T8KIC5zwFief15jg  prince-street-pizza-new-york-2   \n",
       "1  ysqgdbSrezXgVwER2kQWKA             julianas-brooklyn-3   \n",
       "2  v1DHGRNCH9247WLYoaoA9A   l-industrie-pizzeria-brooklyn   \n",
       "3  WG639VkTjmK5dzydd1BBJA             rubirosa-new-york-2   \n",
       "4  Q9F2ocrmYuGt1yn3M7MOBw               lucali-brooklyn-3   \n",
       "\n",
       "                   name                                          image_url  \\\n",
       "0   Prince Street Pizza  https://s3-media4.fl.yelpcdn.com/bphoto/HVjttL...   \n",
       "1             Juliana's  https://s3-media1.fl.yelpcdn.com/bphoto/OCDZ4n...   \n",
       "2  L'industrie Pizzeria  https://s3-media3.fl.yelpcdn.com/bphoto/Llq71W...   \n",
       "3              Rubirosa  https://s3-media4.fl.yelpcdn.com/bphoto/LuSzR8...   \n",
       "4                Lucali  https://s3-media3.fl.yelpcdn.com/bphoto/Yl_eZ_...   \n",
       "\n",
       "   is_closed                                                url  review_count  \\\n",
       "0      False  https://www.yelp.com/biz/prince-street-pizza-n...          4503   \n",
       "1      False  https://www.yelp.com/biz/julianas-brooklyn-3?a...          2523   \n",
       "2      False  https://www.yelp.com/biz/l-industrie-pizzeria-...           766   \n",
       "3      False  https://www.yelp.com/biz/rubirosa-new-york-2?a...          2765   \n",
       "4      False  https://www.yelp.com/biz/lucali-brooklyn-3?adj...          1866   \n",
       "\n",
       "                                          categories  rating  \\\n",
       "0  [{'alias': 'pizza', 'title': 'Pizza'}, {'alias...     4.5   \n",
       "1             [{'alias': 'pizza', 'title': 'Pizza'}]     4.5   \n",
       "2             [{'alias': 'pizza', 'title': 'Pizza'}]     4.5   \n",
       "3  [{'alias': 'italian', 'title': 'Italian'}, {'a...     4.5   \n",
       "4             [{'alias': 'pizza', 'title': 'Pizza'}]     4.0   \n",
       "\n",
       "                                         coordinates        transactions  \\\n",
       "0  {'latitude': 40.72308755605564, 'longitude': -...  [pickup, delivery]   \n",
       "1  {'latitude': 40.70274718768062, 'longitude': -...          [delivery]   \n",
       "2     {'latitude': 40.71162, 'longitude': -73.95783}          [delivery]   \n",
       "3   {'latitude': 40.722766, 'longitude': -73.996233}            [pickup]   \n",
       "4  {'latitude': 40.681840746711224, 'longitude': ...          [delivery]   \n",
       "\n",
       "  price                                           location         phone  \\\n",
       "0     $  {'address1': '27 Prince St', 'address2': None,...  +12129664100   \n",
       "1    $$  {'address1': '19 Old Fulton St', 'address2': '...  +17185966700   \n",
       "2     $  {'address1': '254 S 2nd St', 'address2': '', '...  +17185990002   \n",
       "3    $$  {'address1': '235 Mulberry St', 'address2': ''...  +12129650500   \n",
       "4    $$  {'address1': '575 Henry St', 'address2': None,...  +17188584086   \n",
       "\n",
       "    display_phone     distance  \n",
       "0  (212) 966-4100  1961.877142  \n",
       "1  (718) 596-6700   308.569844  \n",
       "2  (718) 599-0002  3145.016041  \n",
       "3  (212) 965-0500  1932.946770  \n",
       "4  (718) 858-4086  2673.589406  "
      ]
     },
     "metadata": {},
     "output_type": "display_data"
    },
    {
     "data": {
      "text/html": [
       "<div>\n",
       "<style scoped>\n",
       "    .dataframe tbody tr th:only-of-type {\n",
       "        vertical-align: middle;\n",
       "    }\n",
       "\n",
       "    .dataframe tbody tr th {\n",
       "        vertical-align: top;\n",
       "    }\n",
       "\n",
       "    .dataframe thead th {\n",
       "        text-align: right;\n",
       "    }\n",
       "</style>\n",
       "<table border=\"1\" class=\"dataframe\">\n",
       "  <thead>\n",
       "    <tr style=\"text-align: right;\">\n",
       "      <th></th>\n",
       "      <th>id</th>\n",
       "      <th>alias</th>\n",
       "      <th>name</th>\n",
       "      <th>image_url</th>\n",
       "      <th>is_closed</th>\n",
       "      <th>url</th>\n",
       "      <th>review_count</th>\n",
       "      <th>categories</th>\n",
       "      <th>rating</th>\n",
       "      <th>coordinates</th>\n",
       "      <th>transactions</th>\n",
       "      <th>price</th>\n",
       "      <th>location</th>\n",
       "      <th>phone</th>\n",
       "      <th>display_phone</th>\n",
       "      <th>distance</th>\n",
       "    </tr>\n",
       "  </thead>\n",
       "  <tbody>\n",
       "    <tr>\n",
       "      <th>15</th>\n",
       "      <td>Aazjxg21VH2cncWYBAv68Q</td>\n",
       "      <td>sottocasa-pizzeria-brooklyn-3</td>\n",
       "      <td>Sottocasa Pizzeria</td>\n",
       "      <td>https://s3-media2.fl.yelpcdn.com/bphoto/MbBAMb...</td>\n",
       "      <td>False</td>\n",
       "      <td>https://www.yelp.com/biz/sottocasa-pizzeria-br...</td>\n",
       "      <td>688</td>\n",
       "      <td>[{'alias': 'pizza', 'title': 'Pizza'}, {'alias...</td>\n",
       "      <td>4.5</td>\n",
       "      <td>{'latitude': 40.688285, 'longitude': -73.989006}</td>\n",
       "      <td>[delivery]</td>\n",
       "      <td>$$</td>\n",
       "      <td>{'address1': '298 Atlantic Ave', 'address2': N...</td>\n",
       "      <td>+17188528758</td>\n",
       "      <td>(718) 852-8758</td>\n",
       "      <td>1955.310589</td>\n",
       "    </tr>\n",
       "    <tr>\n",
       "      <th>16</th>\n",
       "      <td>16ZnHpuaaBt92XWeJHCC5A</td>\n",
       "      <td>olio-e-più-new-york-7</td>\n",
       "      <td>Olio e Più</td>\n",
       "      <td>https://s3-media3.fl.yelpcdn.com/bphoto/Nn4I1S...</td>\n",
       "      <td>False</td>\n",
       "      <td>https://www.yelp.com/biz/olio-e-pi%C3%B9-new-y...</td>\n",
       "      <td>3586</td>\n",
       "      <td>[{'alias': 'pizza', 'title': 'Pizza'}, {'alias...</td>\n",
       "      <td>4.5</td>\n",
       "      <td>{'latitude': 40.733798036104304, 'longitude': ...</td>\n",
       "      <td>[pickup, delivery]</td>\n",
       "      <td>$$</td>\n",
       "      <td>{'address1': '3 Greenwich Ave', 'address2': No...</td>\n",
       "      <td>+12122436546</td>\n",
       "      <td>(212) 243-6546</td>\n",
       "      <td>3186.380498</td>\n",
       "    </tr>\n",
       "    <tr>\n",
       "      <th>17</th>\n",
       "      <td>4h4Tuuc56YPO6lWfZ1bdSQ</td>\n",
       "      <td>joes-pizza-new-york-152</td>\n",
       "      <td>Joe's Pizza</td>\n",
       "      <td>https://s3-media2.fl.yelpcdn.com/bphoto/yo5oXK...</td>\n",
       "      <td>False</td>\n",
       "      <td>https://www.yelp.com/biz/joes-pizza-new-york-1...</td>\n",
       "      <td>377</td>\n",
       "      <td>[{'alias': 'pizza', 'title': 'Pizza'}]</td>\n",
       "      <td>4.0</td>\n",
       "      <td>{'latitude': 40.7101297729083, 'longitude': -7...</td>\n",
       "      <td>[pickup, delivery]</td>\n",
       "      <td>$</td>\n",
       "      <td>{'address1': '124 Fulton St', 'address2': '', ...</td>\n",
       "      <td>+12122670860</td>\n",
       "      <td>(212) 267-0860</td>\n",
       "      <td>1245.942863</td>\n",
       "    </tr>\n",
       "    <tr>\n",
       "      <th>18</th>\n",
       "      <td>oJ_XSPZFpvIt6rvheSQl7A</td>\n",
       "      <td>bleecker-street-pizza-new-york</td>\n",
       "      <td>Bleecker Street Pizza</td>\n",
       "      <td>https://s3-media3.fl.yelpcdn.com/bphoto/KdA2kf...</td>\n",
       "      <td>False</td>\n",
       "      <td>https://www.yelp.com/biz/bleecker-street-pizza...</td>\n",
       "      <td>2692</td>\n",
       "      <td>[{'alias': 'pizza', 'title': 'Pizza'}, {'alias...</td>\n",
       "      <td>4.0</td>\n",
       "      <td>{'latitude': 40.7320627016512, 'longitude': -7...</td>\n",
       "      <td>[pickup, delivery]</td>\n",
       "      <td>$</td>\n",
       "      <td>{'address1': '69 7th Ave S', 'address2': None,...</td>\n",
       "      <td>+12129244466</td>\n",
       "      <td>(212) 924-4466</td>\n",
       "      <td>3073.574220</td>\n",
       "    </tr>\n",
       "    <tr>\n",
       "      <th>19</th>\n",
       "      <td>TWH4MjLtN1fKlF-7n6YXHg</td>\n",
       "      <td>lil-frankies-new-york</td>\n",
       "      <td>Lil Frankie's</td>\n",
       "      <td>https://s3-media3.fl.yelpcdn.com/bphoto/t0OsEV...</td>\n",
       "      <td>False</td>\n",
       "      <td>https://www.yelp.com/biz/lil-frankies-new-york...</td>\n",
       "      <td>1373</td>\n",
       "      <td>[{'alias': 'pizza', 'title': 'Pizza'}, {'alias...</td>\n",
       "      <td>4.0</td>\n",
       "      <td>{'latitude': 40.723625, 'longitude': -73.988555}</td>\n",
       "      <td>[pickup, delivery]</td>\n",
       "      <td>$$</td>\n",
       "      <td>{'address1': '19 1st Ave', 'address2': '', 'ad...</td>\n",
       "      <td>+12124204900</td>\n",
       "      <td>(212) 420-4900</td>\n",
       "      <td>2079.035043</td>\n",
       "    </tr>\n",
       "  </tbody>\n",
       "</table>\n",
       "</div>"
      ],
      "text/plain": [
       "                        id                           alias  \\\n",
       "15  Aazjxg21VH2cncWYBAv68Q   sottocasa-pizzeria-brooklyn-3   \n",
       "16  16ZnHpuaaBt92XWeJHCC5A           olio-e-più-new-york-7   \n",
       "17  4h4Tuuc56YPO6lWfZ1bdSQ         joes-pizza-new-york-152   \n",
       "18  oJ_XSPZFpvIt6rvheSQl7A  bleecker-street-pizza-new-york   \n",
       "19  TWH4MjLtN1fKlF-7n6YXHg           lil-frankies-new-york   \n",
       "\n",
       "                     name                                          image_url  \\\n",
       "15     Sottocasa Pizzeria  https://s3-media2.fl.yelpcdn.com/bphoto/MbBAMb...   \n",
       "16             Olio e Più  https://s3-media3.fl.yelpcdn.com/bphoto/Nn4I1S...   \n",
       "17            Joe's Pizza  https://s3-media2.fl.yelpcdn.com/bphoto/yo5oXK...   \n",
       "18  Bleecker Street Pizza  https://s3-media3.fl.yelpcdn.com/bphoto/KdA2kf...   \n",
       "19          Lil Frankie's  https://s3-media3.fl.yelpcdn.com/bphoto/t0OsEV...   \n",
       "\n",
       "    is_closed                                                url  \\\n",
       "15      False  https://www.yelp.com/biz/sottocasa-pizzeria-br...   \n",
       "16      False  https://www.yelp.com/biz/olio-e-pi%C3%B9-new-y...   \n",
       "17      False  https://www.yelp.com/biz/joes-pizza-new-york-1...   \n",
       "18      False  https://www.yelp.com/biz/bleecker-street-pizza...   \n",
       "19      False  https://www.yelp.com/biz/lil-frankies-new-york...   \n",
       "\n",
       "    review_count                                         categories  rating  \\\n",
       "15           688  [{'alias': 'pizza', 'title': 'Pizza'}, {'alias...     4.5   \n",
       "16          3586  [{'alias': 'pizza', 'title': 'Pizza'}, {'alias...     4.5   \n",
       "17           377             [{'alias': 'pizza', 'title': 'Pizza'}]     4.0   \n",
       "18          2692  [{'alias': 'pizza', 'title': 'Pizza'}, {'alias...     4.0   \n",
       "19          1373  [{'alias': 'pizza', 'title': 'Pizza'}, {'alias...     4.0   \n",
       "\n",
       "                                          coordinates        transactions  \\\n",
       "15   {'latitude': 40.688285, 'longitude': -73.989006}          [delivery]   \n",
       "16  {'latitude': 40.733798036104304, 'longitude': ...  [pickup, delivery]   \n",
       "17  {'latitude': 40.7101297729083, 'longitude': -7...  [pickup, delivery]   \n",
       "18  {'latitude': 40.7320627016512, 'longitude': -7...  [pickup, delivery]   \n",
       "19   {'latitude': 40.723625, 'longitude': -73.988555}  [pickup, delivery]   \n",
       "\n",
       "   price                                           location         phone  \\\n",
       "15    $$  {'address1': '298 Atlantic Ave', 'address2': N...  +17188528758   \n",
       "16    $$  {'address1': '3 Greenwich Ave', 'address2': No...  +12122436546   \n",
       "17     $  {'address1': '124 Fulton St', 'address2': '', ...  +12122670860   \n",
       "18     $  {'address1': '69 7th Ave S', 'address2': None,...  +12129244466   \n",
       "19    $$  {'address1': '19 1st Ave', 'address2': '', 'ad...  +12124204900   \n",
       "\n",
       "     display_phone     distance  \n",
       "15  (718) 852-8758  1955.310589  \n",
       "16  (212) 243-6546  3186.380498  \n",
       "17  (212) 267-0860  1245.942863  \n",
       "18  (212) 924-4466  3073.574220  \n",
       "19  (212) 420-4900  2079.035043  "
      ]
     },
     "metadata": {},
     "output_type": "display_data"
    }
   ],
   "source": [
    "final_df = pd.read_json(JSON_FILE)\n",
    "display(final_df.head(), final_df.tail())"
   ]
  },
  {
   "cell_type": "code",
   "execution_count": 39,
   "id": "374a67f0",
   "metadata": {
    "scrolled": true
   },
   "outputs": [
    {
     "data": {
      "text/plain": [
       "0"
      ]
     },
     "execution_count": 39,
     "metadata": {},
     "output_type": "execute_result"
    }
   ],
   "source": [
    "final_df.duplicated(subset='id').sum()"
   ]
  },
  {
   "cell_type": "markdown",
   "id": "d0130b01",
   "metadata": {},
   "source": [
    "No duplicates"
   ]
  },
  {
   "cell_type": "code",
   "execution_count": 41,
   "id": "c72ee857",
   "metadata": {},
   "outputs": [],
   "source": [
    "final_df.to_csv('Data/Seattle_thai_results.csv', compression='gzip',index=False)"
   ]
  }
 ],
 "metadata": {
  "kernelspec": {
   "display_name": "Python (dojo-env)",
   "language": "python",
   "name": "dojo-env"
  },
  "language_info": {
   "codemirror_mode": {
    "name": "ipython",
    "version": 3
   },
   "file_extension": ".py",
   "mimetype": "text/x-python",
   "name": "python",
   "nbconvert_exporter": "python",
   "pygments_lexer": "ipython3",
   "version": "3.8.13"
  },
  "toc": {
   "base_numbering": 1,
   "nav_menu": {},
   "number_sections": true,
   "sideBar": true,
   "skip_h1_title": false,
   "title_cell": "Table of Contents",
   "title_sidebar": "Contents",
   "toc_cell": false,
   "toc_position": {},
   "toc_section_display": true,
   "toc_window_display": false
  }
 },
 "nbformat": 4,
 "nbformat_minor": 5
}
